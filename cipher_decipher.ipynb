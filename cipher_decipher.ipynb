{
 "cells": [
  {
   "cell_type": "markdown",
   "id": "ae94f8f6",
   "metadata": {},
   "source": [
    "## Déchiffrement d'un code de subsitution \n",
    "\n",
    "\n",
    "On calcule une plausibilité pour une tentative de chiffrement $f : \\{ \\text{espace de codage} \\} \\to \\{ \\text{alphabet usuel} \\}$ définie par : \n",
    "\n",
    "$$Pl(f) = \\frac{1}{N}\\sum_{i=0}^{N-1}{\\log \\mathbb{P}(f(c_i),f(c_{i+1}))} $$ \n",
    "\n",
    "où le texte chiffré est la suite $c_0c_1\\cdots c_N$ \n",
    "\n",
    "On cherche à maximiser cette plausibilité i.e que l'on cherche à résoudre le problème d'optimisation suivant : \n",
    "\n",
    "Trouver $$ f^* = \\text{Argmin}_f{Pl(f)} $$\n",
    "\n",
    "\n",
    "References :\n",
    "- Decrypting Classical Cipher Text Using Markov Chain Monte Carlo \n",
    "- The Markov Chain Monte Carlo Revolution"
   ]
  },
  {
   "cell_type": "code",
   "execution_count": 18,
   "id": "2f968d8e",
   "metadata": {},
   "outputs": [],
   "source": [
    "import numpy as np\n",
    "import matplotlib.pyplot as plt\n",
    "from unidecode import unidecode\n",
    "from itertools import pairwise\n",
    "from random import shuffle"
   ]
  },
  {
   "cell_type": "code",
   "execution_count": 87,
   "id": "7676036e",
   "metadata": {},
   "outputs": [],
   "source": [
    "MIN_ITER = 2000\n",
    "MAX_ITER = 10000\n",
    "ALPHA = 1\n",
    "EPSILON = 1e-6\n",
    "LANGUAGE = 'fr' # 'fr', en', 'esp', 'de', 'it' ..."
   ]
  },
  {
   "cell_type": "code",
   "execution_count": 88,
   "id": "eb0fd36d",
   "metadata": {},
   "outputs": [],
   "source": [
    "SPACES = 1\n",
    "if SPACES : \n",
    "    IOC = -3\n",
    "else :\n",
    "    IOC = -2.05"
   ]
  },
  {
   "cell_type": "code",
   "execution_count": 89,
   "id": "f86a77fa",
   "metadata": {},
   "outputs": [],
   "source": [
    "if SPACES :\n",
    "    alphabet = [' ', 'A', 'B', 'C', 'D', 'E', 'F', 'G', 'H', 'I', 'J', 'K', 'L', 'M', 'N', 'O', 'P', 'Q', 'R', 'S', 'T', 'U', 'V', 'W', 'X', 'Y', 'Z']\n",
    "else :\n",
    "    alphabet = ['A', 'B', 'C', 'D', 'E', 'F', 'G', 'H', 'I', 'J', 'K', 'L', 'M', 'N', 'O', 'P', 'Q', 'R', 'S', 'T', 'U', 'V', 'W', 'X', 'Y', 'Z']"
   ]
  },
  {
   "cell_type": "code",
   "execution_count": 90,
   "id": "a966f54f",
   "metadata": {},
   "outputs": [
    {
     "data": {
      "text/plain": [
       "27"
      ]
     },
     "execution_count": 90,
     "metadata": {},
     "output_type": "execute_result"
    }
   ],
   "source": [
    "NB_SYMB = len(alphabet)\n",
    "NB_SYMB"
   ]
  },
  {
   "cell_type": "code",
   "execution_count": 91,
   "id": "9d495d03",
   "metadata": {},
   "outputs": [],
   "source": [
    "def char_to_int(c) :\n",
    "    if SPACES :\n",
    "        return 0 if c==\" \" else ord(c)-64\n",
    "    else :\n",
    "        return ord(c)-65\n",
    "\n",
    "def int_to_char(i) :\n",
    "    if SPACES :\n",
    "        return \" \" if i==0 else chr(i+64)\n",
    "    else : \n",
    "        return chr(i+65)"
   ]
  },
  {
   "cell_type": "code",
   "execution_count": 92,
   "id": "c6898748",
   "metadata": {},
   "outputs": [],
   "source": [
    "## premier dechiffrement : \n",
    "## decode(i) = on calcule le rang r d'apparition du caractère i, on décode avec la r-ième lettre \n",
    "## la plus fréquente en français"
   ]
  },
  {
   "cell_type": "code",
   "execution_count": 93,
   "id": "fc394b7a",
   "metadata": {},
   "outputs": [],
   "source": [
    "def normalise(text) :\n",
    "    # Enlever les accents, la ponctuation\n",
    "    # Mettre tout en majuscule\n",
    "    normalised_text = \"\"\n",
    "    for s in text : \n",
    "        if (s in [\",\", \".\", \";\", \"(\", \")\", \"@\"]) :\n",
    "            normalised_text+=\"\"\n",
    "        elif s in [\"'\", \"-\", \"’\"]:\n",
    "            normalised_text+=\" \"\n",
    "        else :\n",
    "            normalised_text+=s\n",
    "    return unidecode(normalised_text).upper()"
   ]
  },
  {
   "cell_type": "code",
   "execution_count": 94,
   "id": "c17dc66b",
   "metadata": {},
   "outputs": [
    {
     "data": {
      "text/plain": [
       "'L EVEQUE'"
      ]
     },
     "execution_count": 94,
     "metadata": {},
     "output_type": "execute_result"
    }
   ],
   "source": [
    "char_to_int(\"B\")\n",
    "int_to_char(5)\n",
    "normalise(\"L'évêque\")"
   ]
  },
  {
   "cell_type": "code",
   "execution_count": 95,
   "id": "a532ef14",
   "metadata": {
    "scrolled": true
   },
   "outputs": [
    {
     "data": {
      "text/plain": [
       "'NON RIEN DE RIEN NON JE NE REGRETTE RIEN'"
      ]
     },
     "execution_count": 95,
     "metadata": {},
     "output_type": "execute_result"
    }
   ],
   "source": [
    "normalise(\"NON, RIEN DE RIEN, NON, JE NE REGRETTE RIEN\")"
   ]
  },
  {
   "cell_type": "code",
   "execution_count": 96,
   "id": "43322a48",
   "metadata": {},
   "outputs": [
    {
     "name": "stdout",
     "output_type": "stream",
     "text": [
      "None\n"
     ]
    }
   ],
   "source": [
    "a=np.random.shuffle(np.array([1, 2, 3]))\n",
    "print(a)"
   ]
  },
  {
   "cell_type": "code",
   "execution_count": 140,
   "id": "7446d60a",
   "metadata": {},
   "outputs": [],
   "source": [
    "if SPACES :\n",
    "    #code = [0] + [(i+4)%26+1 for i in range(26)]\n",
    "    #a = [i for i in range(1, 27)]\n",
    "    a = [i for i in range(0, 27)]\n",
    "    shuffle(a)\n",
    "    code = a\n",
    "else : \n",
    "    code = [(i+4)%26 for i in range(26)]"
   ]
  },
  {
   "cell_type": "code",
   "execution_count": 98,
   "id": "49ce941f",
   "metadata": {},
   "outputs": [
    {
     "name": "stdout",
     "output_type": "stream",
     "text": [
      "[0, 4, 15, 21, 19, 16, 25, 7, 1, 3, 22, 11, 10, 12, 5, 17, 9, 24, 26, 23, 14, 20, 2, 6, 13, 18, 8]\n"
     ]
    }
   ],
   "source": [
    "print(code)"
   ]
  },
  {
   "cell_type": "code",
   "execution_count": 99,
   "id": "1ef86a6f",
   "metadata": {},
   "outputs": [],
   "source": [
    "def cipher(plain_text, code) :\n",
    "    cipher_text = \"\"\n",
    "    t = normalise(plain_text)\n",
    "    for c in t : \n",
    "        i=char_to_int(c)\n",
    "        if 0<=i<=26 :\n",
    "            cipher_text+=int_to_char(code[i])\n",
    "        else :\n",
    "            cipher_text+=c\n",
    "    return cipher_text"
   ]
  },
  {
   "cell_type": "code",
   "execution_count": 100,
   "id": "0d268974",
   "metadata": {},
   "outputs": [
    {
     "data": {
      "text/plain": [
       "'EQE ZCPE SP ZCPE EQE VP EP ZPGZPNNP ZCPE'"
      ]
     },
     "execution_count": 100,
     "metadata": {},
     "output_type": "execute_result"
    }
   ],
   "source": [
    "cipher(\"NON, RIEN DE RIEN, NON, JE NE REGRETTE RIEN\", code)"
   ]
  },
  {
   "cell_type": "code",
   "execution_count": 101,
   "id": "663521b9",
   "metadata": {},
   "outputs": [],
   "source": [
    "if LANGUAGE=='fr' :\n",
    "    file = open(\"swann.txt\", \"r\", encoding=\"utf-8\")\n",
    "elif LANGUAGE=='en':\n",
    "    file = open(\"War_and_Peace.txt\", \"r\", encoding='latin1')\n",
    "    \n",
    "mots = []\n",
    "\n",
    "for l in file :\n",
    "    mots.append(normalise(l))\n",
    "\n",
    "file.close()"
   ]
  },
  {
   "cell_type": "code",
   "execution_count": 1,
   "id": "052564a7",
   "metadata": {},
   "outputs": [],
   "source": [
    "def f(filename, language) :\n",
    "    return frequencies, bigrams #, trigrams, quagrams ..."
   ]
  },
  {
   "cell_type": "code",
   "execution_count": 102,
   "id": "68c4711a",
   "metadata": {},
   "outputs": [
    {
     "data": {
      "image/png": "[encoded data removed]",
      "text/plain": [
       "<Figure size 720x720 with 2 Axes>"
      ]
     },
     "metadata": {
      "needs_background": "light"
     },
     "output_type": "display_data"
    }
   ],
   "source": [
    "bigrams = np.zeros((NB_SYMB, NB_SYMB))\n",
    "freq = {}\n",
    "for i in alphabet :\n",
    "    freq[i]=0\n",
    "\n",
    "for s in mots : \n",
    "    for c in s[:-1] :\n",
    "        if 0<=char_to_int(c)<=26 :\n",
    "            freq[c]+=1\n",
    "            \n",
    "    consecutive = list(pairwise(s))\n",
    "    for a, b in consecutive :\n",
    "        i, j = char_to_int(a), char_to_int(b)\n",
    "        if 0<=i<=26 and 0<=j<=26 :\n",
    "            bigrams[i, j]+=1\n",
    "\n",
    "for i in range(NB_SYMB):\n",
    "    bigrams[i,:]/=np.sum(bigrams[i,:])\n",
    "\n",
    "\n",
    "log_bigrams = np.log2(bigrams + EPSILON)\n",
    "\n",
    "fig, ax = plt.subplots(figsize=(10,10))\n",
    "plt.imshow(log_bigrams, interpolation=\"nearest\", cmap='inferno')\n",
    "ax.xaxis.set_ticks(list(range(NB_SYMB)), labels = [int_to_char(i) for i in range(NB_SYMB)])\n",
    "ax.yaxis.set_ticks(list(range(NB_SYMB)), labels = [int_to_char(i) for i in range(NB_SYMB)])\n",
    "#plt.colorbar()\n",
    "plt.title(\"Consecutive letters in {}\".format(\"French\" if LANGUAGE=='fr' else \"English\"), fontsize=22)\n",
    "plt.colorbar()\n",
    "plt.show()"
   ]
  },
  {
   "cell_type": "code",
   "execution_count": 103,
   "id": "5f2ff673",
   "metadata": {},
   "outputs": [
    {
     "name": "stdout",
     "output_type": "stream",
     "text": [
      "[' ', 'A', 'B', 'C', 'D', 'E', 'F', 'G', 'H', 'I', 'J', 'K', 'L', 'M', 'N', 'O', 'P', 'Q', 'R', 'S', 'T', 'U', 'V', 'W', 'X', 'Y', 'Z']\n",
      "[0, 5, 1, 9, 19, 20, 14, 21, 18, 12, 15, 4, 13, 3, 16, 22, 17, 6, 2, 7, 8, 10, 24, 25, 26, 23, 11]\n",
      "[' ', 'E', 'A', 'I', 'S', 'T', 'N', 'U', 'R', 'L', 'O', 'D', 'M', 'C', 'P', 'V', 'Q', 'F', 'B', 'G', 'H', 'J', 'X', 'Y', 'Z', 'W', 'K']\n",
      "[' ', 'E', 'A', 'I', 'S', 'T', 'N', 'U', 'R', 'L', 'O', 'D', 'M', 'C', 'P', 'V', 'Q', 'F', 'B', 'G', 'H', 'J', 'X', 'Y', 'Z', 'W', 'K']\n"
     ]
    },
    {
     "data": {
      "image/png": "[encoded data removed]",
      "text/plain": [
       "<Figure size 360x360 with 1 Axes>"
      ]
     },
     "metadata": {
      "needs_background": "light"
     },
     "output_type": "display_data"
    }
   ],
   "source": [
    "x = list(freq.keys())\n",
    "print(x)\n",
    "y = list(freq.values())\n",
    "y = [i/sum(y) for i in y]\n",
    "z = list(np.argsort(y))[::-1]\n",
    "print(z)\n",
    "y.sort()\n",
    "y = y[::-1]\n",
    "x = [x[i] for i in z]\n",
    "print(x)\n",
    "freq_fr = x\n",
    "print(freq_fr)\n",
    "fig, ax = plt.subplots(figsize=(5,5))\n",
    "ax.xaxis.set_ticks(list(range(NB_SYMB)), labels = x)\n",
    "plt.plot(y, 'o')\n",
    "plt.show()"
   ]
  },
  {
   "cell_type": "code",
   "execution_count": 104,
   "id": "dbff7500",
   "metadata": {},
   "outputs": [],
   "source": [
    "freq_fr = invert(list(z))"
   ]
  },
  {
   "cell_type": "code",
   "execution_count": 105,
   "id": "5ec7518a",
   "metadata": {},
   "outputs": [
    {
     "name": "stdout",
     "output_type": "stream",
     "text": [
      "[0, 2, 18, 13, 11, 1, 17, 19, 20, 3, 21, 26, 9, 12, 6, 10, 14, 16, 8, 4, 5, 7, 15, 25, 22, 23, 24]\n"
     ]
    }
   ],
   "source": [
    "print(freq_fr)"
   ]
  },
  {
   "cell_type": "code",
   "execution_count": 106,
   "id": "243ed019",
   "metadata": {
    "scrolled": true
   },
   "outputs": [
    {
     "name": "stdout",
     "output_type": "stream",
     "text": [
      "EN 1815, M. CHARLES-FRANÇOIS-BIENVENU MYRIEL ÉTAIT ÉVÊQUE DE DIGNE. C’ÉTAIT UN VIEILLARD D’ENVIRON SOIXANTE-QUINZE ANS ; IL OCCUPAIT LE SIÉGE DE DIGNE DEPUIS 1806. QUOIQUE CE DÉTAIL NE TOUCHE EN AUCUNE MANIÈRE AU FOND MÊME DE CE QUE NOUS AVONS À RACONTER, IL N’EST PEUT-ÊTRE PAS INUTILE, NE FÛT-CE QUE POUR ÊTRE EXACT EN TOUT, D’INDIQUER ICI LES BRUITS ET LES PROPOS QUI AVAIENT COURU SUR SON COMPTE AU MOMENT OÙ IL ÉTAIT ARRIVÉ DANS LE DIOCÈSE. VRAI OU FAUX, CE QU’ON DIT DES HOMMES TIENT SOUVENT AUTANT DE PLACE DANS LEUR VIE ET SOUVENT DANS LEUR DESTINÉE QUE CE QU’ILS FONT. M. MYRIEL ÉTAIT FILS D’UN CONSEILLER AU PARLEMENT D’AIX ; NOBLESSE DE ROBE. ON CONTAIT QUE SON PÈRE, LE RÉSERVANT POUR HÉRITER DE SA CHARGE, L’AVAIT MARIÉ DE FORT BONNE HEURE, À DIX-HUIT OU VINGT ANS, SUIVANT UN USAGE ASSEZ RÉPANDU DANS LES FAMILLES PARLEMENTAIRES. CHARLES MYRIEL, NONOBSTANT CE MARIAGE, AVAIT, DISAIT-ON, BEAUCOUP FAIT PARLER DE LUI. IL ÉTAIT BIEN FAIT DE SA PERSONNE, QUOIQUE D’ASSEZ PETITE TAILLE, ÉLÉGANT, GRACIEUX, SPIRITUEL ; TOUTE LA PREMIÈRE PARTIE DE SA VIE AVAIT ÉTÉ DONNÉE AU MONDE ET AUX GALANTERIES. \n"
     ]
    }
   ],
   "source": [
    "text = \"En 1815, M. Charles-François-Bienvenu Myriel était évêque de Digne. C’était un vieillard d’environ soixante-quinze ans ; il occupait le siége de Digne depuis 1806. Quoique ce détail ne touche en aucune manière au fond même de ce que nous avons à raconter, il n’est peut-être pas inutile, ne fût-ce que pour être exact en tout, d’indiquer ici les bruits et les propos qui avaient couru sur son compte au moment où il était arrivé dans le diocèse. Vrai ou faux, ce qu’on dit des hommes tient souvent autant de place dans leur vie et souvent dans leur destinée que ce qu’ils font. M. Myriel était fils d’un conseiller au parlement d’Aix ; noblesse de robe. On contait que son père, le réservant pour hériter de sa charge, l’avait marié de fort bonne heure, à dix-huit ou vingt ans, suivant un usage assez répandu dans les familles parlementaires. Charles Myriel, nonobstant ce mariage, avait, disait-on, beaucoup fait parler de lui. Il était bien fait de sa personne, quoique d’assez petite taille, élégant, gracieux, spirituel ; toute la première partie de sa vie avait été donnée au monde et aux galanteries. \"\n",
    "print(text.upper())"
   ]
  },
  {
   "cell_type": "code",
   "execution_count": 107,
   "id": "6d8a5eed",
   "metadata": {},
   "outputs": [],
   "source": [
    "def invert(permutation) :\n",
    "    n = len(permutation)\n",
    "    inverse = [0 for _ in range(n)]\n",
    "    for i in range(n) :\n",
    "        inverse[i] = permutation.index(i)\n",
    "        \n",
    "    return inverse"
   ]
  },
  {
   "cell_type": "code",
   "execution_count": 108,
   "id": "5e8d4ba7",
   "metadata": {},
   "outputs": [],
   "source": [
    "def freq_ordre(text) :\n",
    "    freq = {}\n",
    "    t = normalise(text)\n",
    "    for l in alphabet :\n",
    "        freq[l]=0\n",
    "    for s in t : \n",
    "        if 0<=char_to_int(s)<=26 : \n",
    "            freq[s]+=1\n",
    "            \n",
    "    #print(freq)\n",
    "    x = list(freq.keys())\n",
    "    y = list(freq.values())\n",
    "    #print(y)\n",
    "    \n",
    "    return invert(list(np.argsort(y))[::-1])"
   ]
  },
  {
   "cell_type": "code",
   "execution_count": 109,
   "id": "62b321a5",
   "metadata": {},
   "outputs": [],
   "source": [
    "freq = freq_ordre(text)"
   ]
  },
  {
   "cell_type": "code",
   "execution_count": 110,
   "id": "40c43b34",
   "metadata": {},
   "outputs": [
    {
     "name": "stdout",
     "output_type": "stream",
     "text": [
      "[0, 2, 20, 12, 11, 1, 18, 17, 19, 3, 25, 24, 10, 14, 5, 9, 13, 16, 8, 7, 4, 6, 15, 26, 21, 22, 23]\n"
     ]
    }
   ],
   "source": [
    "print(freq)"
   ]
  },
  {
   "cell_type": "code",
   "execution_count": 111,
   "id": "f91d74ab",
   "metadata": {},
   "outputs": [
    {
     "name": "stdout",
     "output_type": "stream",
     "text": [
      "[' ', 'E', 'A', 'I', 'T', 'N', 'U', 'S', 'R', 'O', 'L', 'D', 'C', 'P', 'M', 'V', 'Q', 'G', 'F', 'H', 'B', 'X', 'Y', 'Z', 'K', 'J', 'W']\n"
     ]
    }
   ],
   "source": [
    "print(list(map(int_to_char, invert(freq))))"
   ]
  },
  {
   "cell_type": "code",
   "execution_count": 112,
   "id": "92183d13",
   "metadata": {},
   "outputs": [],
   "source": [
    "def l(text) :\n",
    "    likelihood=0\n",
    "    text_copy = normalise(text)\n",
    "    c1 = text_copy[0]\n",
    "    for c2 in text_copy[1:] :\n",
    "        i, j = char_to_int(c1), char_to_int(c2)\n",
    "        if 0<=i<=26 and 0<=j<=26 :\n",
    "            likelihood+=log_bigrams[i, j]\n",
    "        c1=c2\n",
    "        \n",
    "    return likelihood/len(text)"
   ]
  },
  {
   "cell_type": "code",
   "execution_count": 113,
   "id": "e4b4889a",
   "metadata": {},
   "outputs": [
    {
     "data": {
      "text/plain": [
       "-3.0701013157171473"
      ]
     },
     "execution_count": 113,
     "metadata": {},
     "output_type": "execute_result"
    }
   ],
   "source": [
    "l(text)"
   ]
  },
  {
   "cell_type": "code",
   "execution_count": 114,
   "id": "e5b2c73f",
   "metadata": {
    "scrolled": false
   },
   "outputs": [
    {
     "data": {
      "text/plain": [
       "-2.983330240839408"
      ]
     },
     "execution_count": 114,
     "metadata": {},
     "output_type": "execute_result"
    }
   ],
   "source": [
    "otis = \"\"\"Mais, vous savez, moi je ne crois pas qu’il y ait de bonne ou de mauvaise situation. Moi, si je devais résumer ma vie aujourd’hui avec vous, je dirais que c’est d’abord des rencontres, des gens qui m’ont tendu la main, peut-être à un moment où je ne pouvais pas, où j’étais seul chez moi. Et c’est assez curieux de se dire que les hasards, les rencontres forgent une destinée... Parce que quand on a le goût de la chose, quand on a le goût de la chose bien faite, le beau geste, parfois on ne trouve pas l’interlocuteur en face, je dirais, le miroir qui vous aide à avancer\"\"\"\n",
    "l(otis)"
   ]
  },
  {
   "cell_type": "code",
   "execution_count": 115,
   "id": "dd2366de",
   "metadata": {},
   "outputs": [
    {
     "name": "stdout",
     "output_type": "stream",
     "text": [
      "PE 1815 L UADZJPW YZDEUQCW OCPEBPET LRZCPJ PNDCN PBPXTP SP SCGEP U PNDCN TE BCPCJJDZS S PEBCZQE WQCMDENP XTCEHP DEW  CJ QUUTIDCN JP WCPGP SP SCGEP SPITCW 1806 XTQCXTP UP SPNDCJ EP NQTUAP PE DTUTEP LDECPZP DT YQES LPLP SP UP XTP EQTW DBQEW D ZDUQENPZ CJ E PWN IPTN PNZP IDW CETNCJP EP YTN UP XTP IQTZ PNZP PMDUN PE NQTN S CESCXTPZ CUC JPW OZTCNW PN JPW IZQIQW XTC DBDCPEN UQTZT WTZ WQE UQLINP DT LQLPEN QT CJ PNDCN DZZCBP SDEW JP SCQUPWP BZDC QT YDTM UP XT QE SCN SPW AQLLPW NCPEN WQTBPEN DTNDEN SP IJDUP SDEW JPTZ BCP PN WQTBPEN SDEW JPTZ SPWNCEPP XTP UP XT CJW YQEN L LRZCPJ PNDCN YCJW S TE UQEWPCJJPZ DT IDZJPLPEN S DCM  EQOJPWWP SP ZQOP QE UQENDCN XTP WQE IPZP JP ZPWPZBDEN IQTZ APZCNPZ SP WD UADZGP J DBDCN LDZCP SP YQZN OQEEP APTZP D SCM ATCN QT BCEGN DEW WTCBDEN TE TWDGP DWWPH ZPIDEST SDEW JPW YDLCJJPW IDZJPLPENDCZPW UADZJPW LRZCPJ EQEQOWNDEN UP LDZCDGP DBDCN SCWDCN QE OPDTUQTI YDCN IDZJPZ SP JTC CJ PNDCN OCPE YDCN SP WD IPZWQEEP XTQCXTP S DWWPH IPNCNP NDCJJP PJPGDEN GZDUCPTM WICZCNTPJ  NQTNP JD IZPLCPZP IDZNCP SP WD BCP DBDCN PNP SQEEPP DT LQESP PN DTM GDJDENPZCPW \n"
     ]
    }
   ],
   "source": [
    "textc = cipher(text, code)\n",
    "print(textc.upper())"
   ]
  },
  {
   "cell_type": "code",
   "execution_count": 116,
   "id": "6cdf9f26",
   "metadata": {},
   "outputs": [
    {
     "name": "stdout",
     "output_type": "stream",
     "text": [
      "-10.499331213402208\n"
     ]
    }
   ],
   "source": [
    "print(l(textc))"
   ]
  },
  {
   "cell_type": "code",
   "execution_count": 117,
   "id": "cd513c38",
   "metadata": {},
   "outputs": [
    {
     "name": "stdout",
     "output_type": "stream",
     "text": [
      "[0, 2, 18, 13, 11, 1, 17, 19, 20, 3, 21, 26, 9, 12, 6, 10, 14, 16, 8, 4, 5, 7, 15, 25, 22, 23, 24]\n"
     ]
    }
   ],
   "source": [
    "print(freq_fr)"
   ]
  },
  {
   "cell_type": "code",
   "execution_count": 118,
   "id": "861ec747",
   "metadata": {},
   "outputs": [],
   "source": [
    "def decipher_deterministic(textc, N) :\n",
    "    # uni-gram attack as an initialization point for a sequence of bi-gram attacks\n",
    "    \n",
    "    n = len(textc)\n",
    "    t = normalise(textc)\n",
    "    freq_textc = freq_ordre(t)\n",
    "    decipher = \"\"\n",
    "    for c in t :\n",
    "        i = char_to_int(c)\n",
    "        if 0<=i<=26 :\n",
    "            freq_i = freq_textc[i]\n",
    "            decipher+=int_to_char(freq_fr.index(freq_i))\n",
    "        else : \n",
    "            decipher+=c\n",
    "            \n",
    "    decipher2=\"\"\n",
    "    \n",
    "    for k in range(N) :\n",
    "        i, j = np.random.choice(alphabet, size=2, replace=False) # Tirage de 2 lettres de l'alphabet sans remise\n",
    "        for c in decipher :\n",
    "            if c==i :              \n",
    "                decipher2+=j\n",
    "            elif c==j :\n",
    "                decipher2+=i\n",
    "            else : \n",
    "                decipher2+=c\n",
    "                \n",
    "        if l(decipher) < l(decipher2) :\n",
    "            decipher = decipher2\n",
    "            \n",
    "        decipher2 =\"\"\n",
    "        \n",
    "    return decipher"
   ]
  },
  {
   "cell_type": "code",
   "execution_count": 120,
   "id": "788def68",
   "metadata": {
    "scrolled": false
   },
   "outputs": [
    {
     "name": "stdout",
     "output_type": "stream",
     "text": [
      "EN 1815 C MBARLES HRANMOIS FIENVENU CKRIEL ETAIT EVEQUE DE DIGNE M ETAIT UN VIEILLARD D ENVIRON SOIXANTE QUINZE ANS  IL OMMUPAIT LE SIEGE DE DIGNE DEPUIS 1806 QUOIQUE ME DETAIL NE TOUMBE EN AUMUNE CANIERE AU HOND CECE DE ME QUE NOUS AVONS A RAMONTER IL N EST PEUT ETRE PAS INUTILE NE HUT ME QUE POUR ETRE EXAMT EN TOUT D INDIQUER IMI LES FRUITS ET LES PROPOS QUI AVAIENT MOURU SUR SON MOCPTE AU COCENT OU IL ETAIT ARRIVE DANS LE DIOMESE VRAI OU HAUX ME QU ON DIT DES BOCCES TIENT SOUVENT AUTANT DE PLAME DANS LEUR VIE ET SOUVENT DANS LEUR DESTINEE QUE ME QU ILS HONT C CKRIEL ETAIT HILS D UN MONSEILLER AU PARLECENT D AIX  NOFLESSE DE ROFE ON MONTAIT QUE SON PERE LE RESERVANT POUR BERITER DE SA MBARGE L AVAIT CARIE DE HORT FONNE BEURE A DIX BUIT OU VINGT ANS SUIVANT UN USAGE ASSEZ REPANDU DANS LES HACILLES PARLECENTAIRES MBARLES CKRIEL NONOFSTANT ME CARIAGE AVAIT DISAIT ON FEAUMOUP HAIT PARLER DE LUI IL ETAIT FIEN HAIT DE SA PERSONNE QUOIQUE D ASSEZ PETITE TAILLE ELEGANT GRAMIEUX SPIRITUEL  TOUTE LA PRECIERE PARTIE DE SA VIE AVAIT ETE DONNEE AU CONDE ET AUX GALANTERIES \n"
     ]
    }
   ],
   "source": [
    "t = decipher_deterministic(textc, 2500).upper()\n",
    "print(t)"
   ]
  },
  {
   "cell_type": "code",
   "execution_count": 121,
   "id": "5a755c30",
   "metadata": {},
   "outputs": [
    {
     "data": {
      "text/plain": [
       "-3.241580126811901"
      ]
     },
     "execution_count": 121,
     "metadata": {},
     "output_type": "execute_result"
    }
   ],
   "source": [
    "l(t)"
   ]
  },
  {
   "cell_type": "code",
   "execution_count": 122,
   "id": "43637903",
   "metadata": {},
   "outputs": [],
   "source": [
    "def decipher_MCMC(textc) :\n",
    "    # uni-gram attack as an initialization point \n",
    "    n = len(textc)\n",
    "    t = normalise(textc)\n",
    "    freq_textc = freq_ordre(t)\n",
    "    decipher = \"\"\n",
    "    for c in t :\n",
    "        i = char_to_int(c)\n",
    "        if 0<=i<=26 :\n",
    "            freq_i = freq_textc[i]\n",
    "            decipher+=int_to_char(freq_fr.index(freq_i))\n",
    "        else : \n",
    "            decipher+=c\n",
    "    \n",
    "    best_decipher = decipher\n",
    "    best_score = l(decipher)\n",
    "    decipher2=\"\"\n",
    "    count=0\n",
    "    \n",
    "    for k in range(MAX_ITER) :\n",
    "        count+=1\n",
    "        i, j = np.random.choice(alphabet, size=2, replace=False) # Tirage de 2 lettres de l'alphabet sans remise\n",
    "        for c in decipher :\n",
    "            if c==i :              \n",
    "                decipher2+=j\n",
    "            elif c==j :\n",
    "                decipher2+=i\n",
    "            else : \n",
    "                decipher2+=c\n",
    "                \n",
    "        p = 2**((l(decipher2)-l(decipher))*n*ALPHA)\n",
    "        \n",
    "        u = np.random.rand(1)\n",
    "        \n",
    "        if u < p : \n",
    "            #print(l(decipher),l(decipher2))\n",
    "            decipher=decipher2\n",
    "            \n",
    "            if l(decipher)>best_score:\n",
    "                best_decipher=decipher\n",
    "                best_score=l(decipher)\n",
    "\n",
    "        \n",
    "        decipher2 =\"\"\n",
    "        \n",
    "        if (k>MIN_ITER) and (best_score>IOC) :\n",
    "            print(\"count=\", count)\n",
    "            return best_decipher\n",
    "        \n",
    "    print(\"count=\", count)\n",
    "    return decipher"
   ]
  },
  {
   "cell_type": "code",
   "execution_count": 123,
   "id": "39491235",
   "metadata": {},
   "outputs": [],
   "source": [
    "### AVEC ESPACES"
   ]
  },
  {
   "cell_type": "code",
   "execution_count": 124,
   "id": "a9dc11a5",
   "metadata": {
    "scrolled": false
   },
   "outputs": [
    {
     "name": "stdout",
     "output_type": "stream",
     "text": [
      "count= 10000\n"
     ]
    },
    {
     "data": {
      "text/plain": [
       "'EN 1815 M CHARLES FRANCOIS BIENVENU MYRIEL ETAIT EVEQUE DE DIGNE C ETAIT UN VIEILLARD D ENVIRON SOIXANTE QUINJE ANS  IL OCCUPAIT LE SIEGE DE DIGNE DEPUIS 1806 QUOIQUE CE DETAIL NE TOUCHE EN AUCUNE MANIERE AU FOND MEME DE CE QUE NOUS AVONS A RACONTER IL N EST PEUT ETRE PAS INUTILE NE FUT CE QUE POUR ETRE EXACT EN TOUT D INDIQUER ICI LES BRUITS ET LES PROPOS QUI AVAIENT COURU SUR SON COMPTE AU MOMENT OU IL ETAIT ARRIVE DANS LE DIOCESE VRAI OU FAUX CE QU ON DIT DES HOMMES TIENT SOUVENT AU'"
      ]
     },
     "execution_count": 124,
     "metadata": {},
     "output_type": "execute_result"
    }
   ],
   "source": [
    "decipher_MCMC(cipher(text[:500], code))"
   ]
  },
  {
   "cell_type": "code",
   "execution_count": 125,
   "id": "9f16c223",
   "metadata": {},
   "outputs": [
    {
     "name": "stdout",
     "output_type": "stream",
     "text": [
      "count= 10000\n"
     ]
    },
    {
     "data": {
      "text/plain": [
       "'EI 1815 M CHALSEN FLAICOUN QUEIGEIR MYLUES ETAUT EGEPRE DE DUXIE C ETAUT RI GUEUSSALD D EIGULOI NOUJAITE PRUIBE AIN  US OCCRVAUT SE NUEXE DE DUXIE DEVRUN 1806 PROUPRE CE DETAUS IE TORCHE EI ARCRIE MAIUELE AR FOID MEME DE CE PRE IORN AGOIN A LACOITEL US I ENT VERT ETLE VAN UIRTUSE IE FRT CE PR'"
      ]
     },
     "execution_count": 125,
     "metadata": {},
     "output_type": "execute_result"
    }
   ],
   "source": [
    "decipher_MCMC(cipher(text[:300], code))"
   ]
  },
  {
   "cell_type": "code",
   "execution_count": 126,
   "id": "8a1efbdd",
   "metadata": {},
   "outputs": [
    {
     "name": "stdout",
     "output_type": "stream",
     "text": [
      "count= 10000\n"
     ]
    },
    {
     "data": {
      "text/plain": [
       "'ET 1815 L MBANCES GNATMOUS QUETHETI LYNUEC ERAUR EHEFIE DE DUXTE M ERAUR IT HUEUCCAND D ETHUNOT SOUPATRE FIUTJE ATS  UC OMMIVAUR CE SUEXE DE DUXTE DEVIUS 1806 FIOUFIE ME DERAUC TE ROIMBE ET AIMITE LATUENE AI GOTD LELE DE ME FIE TOIS AHOTS A NAMO'"
      ]
     },
     "execution_count": 126,
     "metadata": {},
     "output_type": "execute_result"
    }
   ],
   "source": [
    "decipher_MCMC(cipher(text[:250], code))"
   ]
  },
  {
   "cell_type": "code",
   "execution_count": 132,
   "id": "47f06e4d",
   "metadata": {},
   "outputs": [],
   "source": [
    "turing=\"\"\"L’article « Computing Machinery and Intelligence » qu’Alan Turing publie en 1950 est un incontournable pour tout chercheur en informatique ou toute personne intéressée par l’intelligence artificielle. Facilement accessible sur Internet (le site <scholar.google.fr> donne accès à 218 versions1) ou même en fac-similé sur le site TuringArchive.org 2 , cet article présente une discussion sur ce qui, selon l’auteur, dotera les machines de capa- cités intelligentes et de ce qui permettra d’en convaincre tout un chacun\"\"\""
   ]
  },
  {
   "cell_type": "code",
   "execution_count": 133,
   "id": "8706db1c",
   "metadata": {},
   "outputs": [
    {
     "data": {
      "text/plain": [
       "'L’ARTICLE « COMPUTING MACHINERY AND INTELLIGENCE » QU’ALAN TURING PUBLIE EN 1950 EST UN INCONTOURNABLE POUR TOUT CHERCHEUR EN INFORMATIQUE OU TOUTE PERSONNE INTÉRESSÉE PAR L’INTELLIGENCE ARTIFICIELLE. FACILEMENT ACCESSIBLE SUR INTERNET (LE SITE <SCHOLAR.GOOGLE.FR> DONNE ACCÈS À 218 VERSIONS1) OU MÊME EN FAC-SIMILÉ SUR LE SITE TURINGARCHIVE.ORG 2 , CET ARTICLE PRÉSENTE UNE DISCUSSION SUR CE QUI, SELON L’AUTEUR, DOTERA LES MACHINES DE CAPA- CITÉS INTELLIGENTES ET DE CE QUI PERMETTRA D’EN CONVAINCRE TOUT UN CHACUN'"
      ]
     },
     "execution_count": 133,
     "metadata": {},
     "output_type": "execute_result"
    }
   ],
   "source": [
    "turing.upper()"
   ]
  },
  {
   "cell_type": "code",
   "execution_count": 141,
   "id": "053c541d",
   "metadata": {
    "scrolled": true
   },
   "outputs": [
    {
     "data": {
      "text/plain": [
       "'ICURAHPIMC<<CPZYLJAHTNCYUP HTMRXCUTECHTAMIIHNMTPMC>>CSJCUIUTCAJRHTNCLJDIHMCMTC1950CMWACJTCHTPZTAZJRTUDIMCLZJRCAZJACP MRP MJRCMTCHTQZRYUAHSJMCZJCAZJAMCLMRWZTTMCHTAMRMWWMMCLURCICHTAMIIHNMTPMCURAHQHPHMIIMCQUPHIMYMTACUPPMWWHDIMCWJRCHTAMRTMACIMCWHAMC<WP ZIURNZZNIMQR>CEZTTMCUPPMWCUC218CVMRWHZTW1CZJCYMYMCMTCQUPCWHYHIMCWJRCIMCWHAMCAJRHTNURP HVMZRNC2CCPMACURAHPIMCLRMWMTAMCJTMCEHWPJWWHZTCWJRCPMCSJHCWMIZTCICUJAMJRCEZAMRUCIMWCYUP HTMWCEMCPULUCCPHAMWCHTAMIIHNMTAMWCMACEMCPMCSJHCLMRYMAARUCECMTCPZTVUHTPRMCAZJACJTCP UPJT'"
      ]
     },
     "execution_count": 141,
     "metadata": {},
     "output_type": "execute_result"
    }
   ],
   "source": [
    "cipher(turing, code)"
   ]
  },
  {
   "cell_type": "code",
   "execution_count": 143,
   "id": "90a156c2",
   "metadata": {},
   "outputs": [
    {
     "name": "stdout",
     "output_type": "stream",
     "text": [
      "count= 10000\n"
     ]
    },
    {
     "data": {
      "text/plain": [
       "'L ARTICLE << COMPUTING MACHINERZ AND INTELLIGENCE >> QU ALAN TURING PUBLIE EN 1950 EST UN INCONTOURNABLE POUR TOUT CHERCHEUR EN INVORMATIQUE OU TOUTE PERSONNE INTERESSEE PAR L INTELLIGENCE ARTIVICIELLE VACILEMENT ACCESSIBLE SUR INTERNET LE SITE <SCHOLARGOOGLEVR> DONNE ACCES A 218 FERSIONS1 OU MEME EN VAC SIMILE SUR LE SITE TURINGARCHIFEORG 2  CET ARTICLE PRESENTE UNE DISCUSSION SUR CE QUI SELON L AUTEUR DOTERA LES MACHINES DE CAPA  CITES INTELLIGENTES ET DE CE QUI PERMETTRA D EN CONFAINCRE TOUT UN CHACUN'"
      ]
     },
     "execution_count": 143,
     "metadata": {},
     "output_type": "execute_result"
    }
   ],
   "source": [
    "decipher_MCMC(cipher(turing, code))"
   ]
  },
  {
   "cell_type": "code",
   "execution_count": 127,
   "id": "7077b9bc",
   "metadata": {},
   "outputs": [],
   "source": [
    "otis = \"\"\"Mais, vous savez, moi je ne crois pas qu’il y ait de bonne ou de mauvaise situation. Moi, si je devais résumer ma vie aujourd’hui avec vous, je dirais que c’est d’abord des rencontres, des gens qui m’ont tendu la main\"\"\"#, peut-être à un moment où je ne pouvais pas, où j’étais seul chez moi. Et c’est assez curieux de se dire que les hasards, les rencontres forgent une destinée… Parce que quand on a le goût de la chose, quand on a le goût de la chose bien faite, le beau geste, parfois on ne trouve pas l’interlocuteur en face, je dirais, le miroir qui vous aide à avancer\"\"\""
   ]
  },
  {
   "cell_type": "code",
   "execution_count": 128,
   "id": "dfe034fb",
   "metadata": {},
   "outputs": [
    {
     "data": {
      "text/plain": [
       "'MAIS, VOUS SAVEZ, MOI JE NE CROIS PAS QU’IL Y AIT DE BONNE OU DE MAUVAISE SITUATION. MOI, SI JE DEVAIS RÉSUMER MA VIE AUJOURD’HUI AVEC VOUS, JE DIRAIS QUE C’EST D’ABORD DES RENCONTRES, DES GENS QUI M’ONT TENDU LA MAIN'"
      ]
     },
     "execution_count": 128,
     "metadata": {},
     "output_type": "execute_result"
    }
   ],
   "source": [
    "otis.upper()"
   ]
  },
  {
   "cell_type": "code",
   "execution_count": 129,
   "id": "bc1dbf58",
   "metadata": {},
   "outputs": [
    {
     "data": {
      "text/plain": [
       "'LDCW BQTW WDBPH LQC VP EP UZQCW IDW XT CJ R DCN SP OQEEP QT SP LDTBDCWP WCNTDNCQE LQC WC VP SPBDCW ZPWTLPZ LD BCP DTVQTZS ATC DBPU BQTW VP SCZDCW XTP U PWN S DOQZS SPW ZPEUQENZPW SPW GPEW XTC L QEN NPEST JD LDCE'"
      ]
     },
     "execution_count": 129,
     "metadata": {},
     "output_type": "execute_result"
    }
   ],
   "source": [
    "cipher(otis, code)"
   ]
  },
  {
   "cell_type": "code",
   "execution_count": 130,
   "id": "69527254",
   "metadata": {},
   "outputs": [
    {
     "data": {
      "text/plain": [
       "217"
      ]
     },
     "execution_count": 130,
     "metadata": {},
     "output_type": "execute_result"
    }
   ],
   "source": [
    "len(otis)"
   ]
  },
  {
   "cell_type": "code",
   "execution_count": 131,
   "id": "e3807f03",
   "metadata": {},
   "outputs": [
    {
     "name": "stdout",
     "output_type": "stream",
     "text": [
      "count= 10000\n"
     ]
    },
    {
     "data": {
      "text/plain": [
       "'PAIS VOUS SAVEZ POI LE NE CROIS BAS QU IF Y AIT DE MONNE OU DE PAUVAISE SITUATION POI SI LE DEVAIS RESUPER PA VIE AULOURD JUI AVEC VOUS LE DIRAIS QUE C EST D AMORD DES RENCONTRES DES HENS QUI P ONT TENDU FA PAIN'"
      ]
     },
     "execution_count": 131,
     "metadata": {},
     "output_type": "execute_result"
    }
   ],
   "source": [
    "## SANS PRENDRE EN COMPTE LES ESPACES\n",
    "\n",
    "decipher_MCMC(cipher(otis, code))"
   ]
  },
  {
   "cell_type": "code",
   "execution_count": 82,
   "id": "54b02124",
   "metadata": {},
   "outputs": [],
   "source": [
    "hamlet = \"\"\"To be, or not to be: that is the question: Whether 'tis nobler in the mind to suffer The slings and arrows of outrageous fortune, Or to take arms against a sea of troubles, And by opposing end them\"\"\""
   ]
  },
  {
   "cell_type": "code",
   "execution_count": 83,
   "id": "bc8fb81e",
   "metadata": {},
   "outputs": [
    {
     "data": {
      "text/plain": [
       "'OX UA XJ VXO OX UA: OPEO ZI OPA RQAIOZXV: NPAOPAJ  OZI VXUFAJ ZV OPA KZVL OX IQHHAJ OPA IFZVBI EVL EJJXNI XH XQOJEBAXQI HXJOQVA XJ OX OEDA EJKI EBEZVIO E IAE XH OJXQUFAI EVL UT XGGXIZVB AVL OPAK'"
      ]
     },
     "execution_count": 83,
     "metadata": {},
     "output_type": "execute_result"
    }
   ],
   "source": [
    "cipher(hamlet, code)"
   ]
  },
  {
   "cell_type": "code",
   "execution_count": 86,
   "id": "c8a4f606",
   "metadata": {},
   "outputs": [
    {
     "name": "stdout",
     "output_type": "stream",
     "text": [
      "count= 10000\n"
     ]
    },
    {
     "data": {
      "text/plain": [
       "'TO ME OR NOT TO ME: THAT IS THE QUESTION: WHETHER  TIS NOMPER IN THE CIND TO SUFFER THE SPINGS AND ARROWS OF OUTRAGEOUS FORTUNE OR TO TAVE ARCS AGAINST A SEA OF TROUMPES AND MY OLLOSING END THEC'"
      ]
     },
     "execution_count": 86,
     "metadata": {},
     "output_type": "execute_result"
    }
   ],
   "source": [
    "decipher_MCMC(cipher(hamlet, code))"
   ]
  },
  {
   "cell_type": "code",
   "execution_count": 648,
   "id": "58388186",
   "metadata": {},
   "outputs": [
    {
     "name": "stdout",
     "output_type": "stream",
     "text": [
      "[0, 6, 11, 24, 13, 3, 12, 14, 9, 8, 22, 19, 16, 15, 5, 2, 17, 21, 7, 4, 1, 10, 23, 18, 25, 20, 26]\n"
     ]
    }
   ],
   "source": [
    "print(freq_ordre(hamlet))"
   ]
  },
  {
   "cell_type": "code",
   "execution_count": 649,
   "id": "5c730f82",
   "metadata": {
    "scrolled": true
   },
   "outputs": [
    {
     "name": "stdout",
     "output_type": "stream",
     "text": [
      "[' ', 'T', 'O', 'E', 'S', 'N', 'A', 'R', 'I', 'H', 'U', 'B', 'F', 'D', 'G', 'M', 'L', 'P', 'W', 'K', 'Y', 'Q', 'J', 'V', 'C', 'X', 'Z']\n"
     ]
    }
   ],
   "source": [
    "print(list(map(int_to_char, invert(freq_ordre(hamlet)))))"
   ]
  }
 ],
 "metadata": {
  "kernelspec": {
   "display_name": "Python 3 (ipykernel)",
   "language": "python",
   "name": "python3"
  },
  "language_info": {
   "codemirror_mode": {
    "name": "ipython",
    "version": 3
   },
   "file_extension": ".py",
   "mimetype": "text/x-python",
   "name": "python",
   "nbconvert_exporter": "python",
   "pygments_lexer": "ipython3",
   "version": "3.10.6"
  }
 },
 "nbformat": 4,
 "nbformat_minor": 5
}
