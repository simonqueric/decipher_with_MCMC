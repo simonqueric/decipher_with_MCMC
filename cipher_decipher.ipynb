{
 "cells": [
  {
   "cell_type": "markdown",
   "id": "ae94f8f6",
   "metadata": {},
   "source": [
    "## Déchiffrement d'un code de subsitution \n",
    "\n",
    "Un code de substitution est simplement une permutation $\\sigma$ de l'ensemble des symboles utilisés dans un texte, appelé alphabet et noté $\\Sigma$.\n",
    "\n",
    "On calcule une plausibilité pour une tentative de déchiffrement $f : \\{ \\text{espace de codage} \\} \\to \\{ \\text{alphabet usuel} \\}$ définie par : \n",
    "\n",
    "$$Pl(f) = \\frac{1}{N}\\sum_{i=0}^{N-1}{\\log \\mathbb{P}(f(c_i),f(c_{i+1}))} $$ \n",
    "\n",
    "où le texte chiffré est la suite $c_0c_1\\cdots c_N$ \n",
    "\n",
    "On cherche à maximiser cette plausibilité : on cherche à résoudre le problème d'optimisation suivant : \n",
    "\n",
    "Trouver $$ f^* = \\text{Argmin}_f{Pl(f)} $$\n",
    "\n",
    "\n",
    "References :\n",
    "- https://www.youtube.com/watch?v=z4tkHuWZbRA&ab_channel=ScienceEtonnante\n",
    "- Decrypting Classical Cipher Text Using Markov Chain Monte Carlo \n",
    "- The Markov Chain Monte Carlo Revolution"
   ]
  },
  {
   "cell_type": "code",
   "execution_count": 66,
   "id": "2f968d8e",
   "metadata": {},
   "outputs": [],
   "source": [
    "import numpy as np\n",
    "import matplotlib.pyplot as plt\n",
    "from unidecode import unidecode\n",
    "from itertools import pairwise\n",
    "from random import shuffle"
   ]
  },
  {
   "cell_type": "code",
   "execution_count": 67,
   "id": "7676036e",
   "metadata": {},
   "outputs": [],
   "source": [
    "MIN_ITER = 2000\n",
    "MAX_ITER = 10000\n",
    "EPS = 1e-6\n",
    "LANGUAGE = 'fr' # 'fr', en', 'esp', 'de', 'it' ..."
   ]
  },
  {
   "cell_type": "code",
   "execution_count": 68,
   "id": "eb0fd36d",
   "metadata": {},
   "outputs": [],
   "source": [
    "SPACES = 1\n",
    "if SPACES : \n",
    "    IOC = -3\n",
    "else :\n",
    "    IOC = -2.05"
   ]
  },
  {
   "cell_type": "code",
   "execution_count": 69,
   "id": "f86a77fa",
   "metadata": {},
   "outputs": [],
   "source": [
    "if SPACES :\n",
    "    alphabet = [' ', 'A', 'B', 'C', 'D', 'E', 'F', 'G', 'H', 'I', 'J', 'K', 'L', 'M', 'N', 'O', 'P', 'Q', 'R', 'S', 'T', 'U', 'V', 'W', 'X', 'Y', 'Z']\n",
    "else :\n",
    "    alphabet = ['A', 'B', 'C', 'D', 'E', 'F', 'G', 'H', 'I', 'J', 'K', 'L', 'M', 'N', 'O', 'P', 'Q', 'R', 'S', 'T', 'U', 'V', 'W', 'X', 'Y', 'Z']"
   ]
  },
  {
   "cell_type": "code",
   "execution_count": 70,
   "id": "a966f54f",
   "metadata": {
    "scrolled": true
   },
   "outputs": [],
   "source": [
    "NB_SYMB = len(alphabet)"
   ]
  },
  {
   "cell_type": "code",
   "execution_count": 71,
   "id": "9d495d03",
   "metadata": {},
   "outputs": [],
   "source": [
    "def char_to_int(c) :\n",
    "    if SPACES :\n",
    "        return 0 if c==\" \" else ord(c)-64\n",
    "    else :\n",
    "        return ord(c)-65\n",
    "\n",
    "def int_to_char(i) :\n",
    "    if SPACES :\n",
    "        return \" \" if i==0 else chr(i+64)\n",
    "    else : \n",
    "        return chr(i+65)"
   ]
  },
  {
   "cell_type": "code",
   "execution_count": 72,
   "id": "fc394b7a",
   "metadata": {},
   "outputs": [],
   "source": [
    "def normalise(text) :\n",
    "    # Remove accent and punctuation\n",
    "    # Put every letter in maj\n",
    "    normalised_text = \"\"\n",
    "    for s in text : \n",
    "        if (s in [\",\", \".\", \";\", \"(\", \")\", \"@\"]) :\n",
    "            normalised_text+=\"\"\n",
    "        elif s in [\"'\", \"-\", \"’\"]:\n",
    "            normalised_text+=\" \"\n",
    "        else :\n",
    "            normalised_text+=s\n",
    "    return unidecode(normalised_text).upper()"
   ]
  },
  {
   "cell_type": "code",
   "execution_count": 73,
   "id": "a532ef14",
   "metadata": {
    "scrolled": true
   },
   "outputs": [
    {
     "data": {
      "text/plain": [
       "'NON RIEN DE RIEN NON JE NE REGRETTE RIEN'"
      ]
     },
     "execution_count": 73,
     "metadata": {},
     "output_type": "execute_result"
    }
   ],
   "source": [
    "normalise(\"Non, rien de rien, non, je ne regrette rien\")"
   ]
  },
  {
   "cell_type": "code",
   "execution_count": 74,
   "id": "7446d60a",
   "metadata": {},
   "outputs": [],
   "source": [
    "code = [i for i in range(NB_SYMB)]\n",
    "shuffle(code)"
   ]
  },
  {
   "cell_type": "code",
   "execution_count": 75,
   "id": "fce71bda",
   "metadata": {},
   "outputs": [
    {
     "name": "stdout",
     "output_type": "stream",
     "text": [
      "[4, 22, 6, 16, 11, 0, 7, 25, 2, 3, 15, 20, 17, 23, 19, 9, 13, 1, 5, 18, 24, 21, 14, 26, 12, 10, 8]\n"
     ]
    }
   ],
   "source": [
    "print(code)"
   ]
  },
  {
   "cell_type": "code",
   "execution_count": 76,
   "id": "1ef86a6f",
   "metadata": {},
   "outputs": [],
   "source": [
    "def cipher(plain_text, code) :\n",
    "    cipher_text = \"\"\n",
    "    t = normalise(plain_text)\n",
    "    for c in t : \n",
    "        i=char_to_int(c)\n",
    "        if 0<=i<=26 :\n",
    "            cipher_text+=int_to_char(code[i])\n",
    "        else :\n",
    "            cipher_text+=c\n",
    "    return cipher_text"
   ]
  },
  {
   "cell_type": "code",
   "execution_count": 77,
   "id": "0d268974",
   "metadata": {},
   "outputs": [
    {
     "data": {
      "text/plain": [
       "'SISDEC SDK DEC SDSISDO DS DE YE XX DEC S'"
      ]
     },
     "execution_count": 77,
     "metadata": {},
     "output_type": "execute_result"
    }
   ],
   "source": [
    "cipher(\"NON, RIEN DE RIEN, NON, JE NE REGRETTE RIEN\", code)"
   ]
  },
  {
   "cell_type": "code",
   "execution_count": 78,
   "id": "052564a7",
   "metadata": {},
   "outputs": [],
   "source": [
    "def multi_grams(filename, encod) :\n",
    "    \"\"\" Return the frequencies and bigrams from a reference text\"\"\"\n",
    "    \n",
    "    mots = []\n",
    "    \n",
    "    file = open(filename, \"r\", encoding=encod)\n",
    "    for l in file :\n",
    "        mots.append(normalise(l))\n",
    "    file.close()\n",
    "    \n",
    "    bigrams = np.zeros((NB_SYMB, NB_SYMB))\n",
    "    freq = {}\n",
    "    for i in alphabet :\n",
    "        freq[i]=0\n",
    "\n",
    "    for s in mots : \n",
    "        for c in s[:-1] :\n",
    "            if 0<=char_to_int(c)<=26 :\n",
    "                freq[c]+=1\n",
    "\n",
    "        consecutive = list(pairwise(s))\n",
    "        for a, b in consecutive :\n",
    "            i, j = char_to_int(a), char_to_int(b)\n",
    "            if 0<=i<=26 and 0<=j<=26 :\n",
    "                bigrams[i, j]+=1\n",
    "\n",
    "    for i in range(NB_SYMB):\n",
    "        bigrams[i,:]/=np.sum(bigrams[i,:])\n",
    "\n",
    "    \n",
    "    return freq, bigrams # todo : add trigrams, quagrams ..."
   ]
  },
  {
   "cell_type": "code",
   "execution_count": 103,
   "id": "663521b9",
   "metadata": {},
   "outputs": [],
   "source": [
    "if LANGUAGE=='fr' :\n",
    "    freq, bigrams = multi_grams(\"swann.txt\", \"utf-8\")\n",
    "    #freq, bigrams = multi_grams(\"liste.de.mots.francais.frgut.txt\", \"utf-8\")\n",
    "elif LANGUAGE=='en':\n",
    "    freq, bigrams = multi_grams(\"War_and_Peace.txt\", \"latin1\")"
   ]
  },
  {
   "cell_type": "code",
   "execution_count": 104,
   "id": "68c4711a",
   "metadata": {
    "scrolled": false
   },
   "outputs": [
    {
     "data": {
      "image/png": "[encoded data removed]",
      "text/plain": [
       "<Figure size 720x720 with 2 Axes>"
      ]
     },
     "metadata": {
      "needs_background": "light"
     },
     "output_type": "display_data"
    }
   ],
   "source": [
    "log_bigrams = np.log2(bigrams + EPS)\n",
    "\n",
    "fig, ax = plt.subplots(figsize=(10,10))\n",
    "plt.imshow(log_bigrams, interpolation=\"nearest\", cmap='inferno')\n",
    "ax.xaxis.set_ticks(list(range(NB_SYMB)), labels = [int_to_char(i) for i in range(NB_SYMB)])\n",
    "ax.yaxis.set_ticks(list(range(NB_SYMB)), labels = [int_to_char(i) for i in range(NB_SYMB)])\n",
    "plt.title(\"Consecutive letters in {}\".format(\"French\" if LANGUAGE=='fr' else \"English\"), fontsize=22)\n",
    "plt.colorbar()\n",
    "plt.show()"
   ]
  },
  {
   "cell_type": "code",
   "execution_count": 105,
   "id": "5f2ff673",
   "metadata": {},
   "outputs": [
    {
     "name": "stdout",
     "output_type": "stream",
     "text": [
      "[' ', 'A', 'B', 'C', 'D', 'E', 'F', 'G', 'H', 'I', 'J', 'K', 'L', 'M', 'N', 'O', 'P', 'Q', 'R', 'S', 'T', 'U', 'V', 'W', 'X', 'Y', 'Z']\n",
      "[0, 5, 1, 9, 19, 20, 14, 21, 18, 12, 15, 4, 13, 3, 16, 22, 17, 6, 2, 7, 8, 10, 24, 25, 26, 23, 11]\n",
      "[' ', 'E', 'A', 'I', 'S', 'T', 'N', 'U', 'R', 'L', 'O', 'D', 'M', 'C', 'P', 'V', 'Q', 'F', 'B', 'G', 'H', 'J', 'X', 'Y', 'Z', 'W', 'K']\n",
      "[' ', 'E', 'A', 'I', 'S', 'T', 'N', 'U', 'R', 'L', 'O', 'D', 'M', 'C', 'P', 'V', 'Q', 'F', 'B', 'G', 'H', 'J', 'X', 'Y', 'Z', 'W', 'K']\n"
     ]
    },
    {
     "data": {
      "image/png": "[encoded data removed]",
      "text/plain": [
       "<Figure size 360x360 with 1 Axes>"
      ]
     },
     "metadata": {
      "needs_background": "light"
     },
     "output_type": "display_data"
    }
   ],
   "source": [
    "x = list(freq.keys())\n",
    "print(x)\n",
    "y = list(freq.values())\n",
    "y = [i/sum(y) for i in y]\n",
    "z = list(np.argsort(y))[::-1]\n",
    "print(z)\n",
    "y.sort()\n",
    "y = y[::-1]\n",
    "x = [x[i] for i in z]\n",
    "print(x)\n",
    "freq_fr = x\n",
    "print(freq_fr)\n",
    "fig, ax = plt.subplots(figsize=(5,5))\n",
    "ax.xaxis.set_ticks(list(range(NB_SYMB)), labels = x)\n",
    "plt.plot(y, 'o')\n",
    "plt.title(\"Appearence frequencies of the symbols\")\n",
    "plt.show()"
   ]
  },
  {
   "cell_type": "code",
   "execution_count": 106,
   "id": "6d8a5eed",
   "metadata": {},
   "outputs": [],
   "source": [
    "def invert(permutation) :\n",
    "    n = len(permutation)\n",
    "    inverse = [0 for _ in range(n)]\n",
    "    for i in range(n) :\n",
    "        inverse[i] = permutation.index(i)\n",
    "        \n",
    "    return inverse "
   ]
  },
  {
   "cell_type": "code",
   "execution_count": 107,
   "id": "dbff7500",
   "metadata": {},
   "outputs": [],
   "source": [
    "freq_fr = invert(list(z))"
   ]
  },
  {
   "cell_type": "code",
   "execution_count": 108,
   "id": "5ec7518a",
   "metadata": {},
   "outputs": [
    {
     "name": "stdout",
     "output_type": "stream",
     "text": [
      "[0, 2, 18, 13, 11, 1, 17, 19, 20, 3, 21, 26, 9, 12, 6, 10, 14, 16, 8, 4, 5, 7, 15, 25, 22, 23, 24]\n"
     ]
    }
   ],
   "source": [
    "print(freq_fr)"
   ]
  },
  {
   "cell_type": "code",
   "execution_count": 109,
   "id": "243ed019",
   "metadata": {
    "scrolled": true
   },
   "outputs": [
    {
     "name": "stdout",
     "output_type": "stream",
     "text": [
      "EN 1815, M. CHARLES-FRANÇOIS-BIENVENU MYRIEL ÉTAIT ÉVÊQUE DE DIGNE. C’ÉTAIT UN VIEILLARD D’ENVIRON SOIXANTE-QUINZE ANS ; IL OCCUPAIT LE SIÉGE DE DIGNE DEPUIS 1806. QUOIQUE CE DÉTAIL NE TOUCHE EN AUCUNE MANIÈRE AU FOND MÊME DE CE QUE NOUS AVONS À RACONTER, IL N’EST PEUT-ÊTRE PAS INUTILE, NE FÛT-CE QUE POUR ÊTRE EXACT EN TOUT, D’INDIQUER ICI LES BRUITS ET LES PROPOS QUI AVAIENT COURU SUR SON COMPTE AU MOMENT OÙ IL ÉTAIT ARRIVÉ DANS LE DIOCÈSE. VRAI OU FAUX, CE QU’ON DIT DES HOMMES TIENT SOUVENT AUTANT DE PLACE DANS LEUR VIE ET SOUVENT DANS LEUR DESTINÉE QUE CE QU’ILS FONT. M. MYRIEL ÉTAIT FILS D’UN CONSEILLER AU PARLEMENT D’AIX ; NOBLESSE DE ROBE. ON CONTAIT QUE SON PÈRE, LE RÉSERVANT POUR HÉRITER DE SA CHARGE, L’AVAIT MARIÉ DE FORT BONNE HEURE, À DIX-HUIT OU VINGT ANS, SUIVANT UN USAGE ASSEZ RÉPANDU DANS LES FAMILLES PARLEMENTAIRES. CHARLES MYRIEL, NONOBSTANT CE MARIAGE, AVAIT, DISAIT-ON, BEAUCOUP FAIT PARLER DE LUI. IL ÉTAIT BIEN FAIT DE SA PERSONNE, QUOIQUE D’ASSEZ PETITE TAILLE, ÉLÉGANT, GRACIEUX, SPIRITUEL ; TOUTE LA PREMIÈRE PARTIE DE SA VIE AVAIT ÉTÉ DONNÉE AU MONDE ET AUX GALANTERIES. \n"
     ]
    }
   ],
   "source": [
    "# Extrait du début des Misérables de Victor Hugo\n",
    "\n",
    "text = \"En 1815, M. Charles-François-Bienvenu Myriel était évêque de Digne. C’était un vieillard d’environ soixante-quinze ans ; il occupait le siége de Digne depuis 1806. Quoique ce détail ne touche en aucune manière au fond même de ce que nous avons à raconter, il n’est peut-être pas inutile, ne fût-ce que pour être exact en tout, d’indiquer ici les bruits et les propos qui avaient couru sur son compte au moment où il était arrivé dans le diocèse. Vrai ou faux, ce qu’on dit des hommes tient souvent autant de place dans leur vie et souvent dans leur destinée que ce qu’ils font. M. Myriel était fils d’un conseiller au parlement d’Aix ; noblesse de robe. On contait que son père, le réservant pour hériter de sa charge, l’avait marié de fort bonne heure, à dix-huit ou vingt ans, suivant un usage assez répandu dans les familles parlementaires. Charles Myriel, nonobstant ce mariage, avait, disait-on, beaucoup fait parler de lui. Il était bien fait de sa personne, quoique d’assez petite taille, élégant, gracieux, spirituel ; toute la première partie de sa vie avait été donnée au monde et aux galanteries. \"\n",
    "print(text.upper())"
   ]
  },
  {
   "cell_type": "code",
   "execution_count": 110,
   "id": "5e8d4ba7",
   "metadata": {},
   "outputs": [],
   "source": [
    "def freq_ordre(text) :\n",
    "    \"\"\"Compute appearence frequencies of each symbol in a text\"\"\"\n",
    "    freq = {}\n",
    "    t = normalise(text)\n",
    "    for l in alphabet :\n",
    "        freq[l]=0\n",
    "    for s in t : \n",
    "        if 0<=char_to_int(s)<=26 : \n",
    "            freq[s]+=1\n",
    "            \n",
    "    #print(freq)\n",
    "    x = list(freq.keys())\n",
    "    y = list(freq.values())\n",
    "    #print(y)\n",
    "    \n",
    "    return invert(list(np.argsort(y))[::-1])"
   ]
  },
  {
   "cell_type": "code",
   "execution_count": 111,
   "id": "62b321a5",
   "metadata": {},
   "outputs": [],
   "source": [
    "freq = freq_ordre(text)"
   ]
  },
  {
   "cell_type": "code",
   "execution_count": 112,
   "id": "40c43b34",
   "metadata": {},
   "outputs": [
    {
     "name": "stdout",
     "output_type": "stream",
     "text": [
      "[0, 2, 20, 12, 11, 1, 18, 17, 19, 3, 25, 24, 10, 14, 5, 9, 13, 16, 8, 7, 4, 6, 15, 26, 21, 22, 23]\n"
     ]
    }
   ],
   "source": [
    "print(freq)"
   ]
  },
  {
   "cell_type": "code",
   "execution_count": 113,
   "id": "f91d74ab",
   "metadata": {},
   "outputs": [
    {
     "name": "stdout",
     "output_type": "stream",
     "text": [
      "[' ', 'E', 'A', 'I', 'T', 'N', 'U', 'S', 'R', 'O', 'L', 'D', 'C', 'P', 'M', 'V', 'Q', 'G', 'F', 'H', 'B', 'X', 'Y', 'Z', 'K', 'J', 'W']\n"
     ]
    }
   ],
   "source": [
    "print(list(map(int_to_char, invert(freq))))"
   ]
  },
  {
   "cell_type": "code",
   "execution_count": 114,
   "id": "92183d13",
   "metadata": {},
   "outputs": [],
   "source": [
    "def bigrams_score(text) :\n",
    "    likelihood=0\n",
    "    text_copy = normalise(text)\n",
    "    c1 = text_copy[0]\n",
    "    for c2 in text_copy[1:] :\n",
    "        i, j = char_to_int(c1), char_to_int(c2)\n",
    "        if 0<=i<=26 and 0<=j<=26 :\n",
    "            likelihood+=log_bigrams[i, j]\n",
    "        c1=c2\n",
    "        \n",
    "    return likelihood/len(text)"
   ]
  },
  {
   "cell_type": "code",
   "execution_count": 115,
   "id": "e4b4889a",
   "metadata": {},
   "outputs": [
    {
     "data": {
      "text/plain": [
       "-3.0701013157171473"
      ]
     },
     "execution_count": 115,
     "metadata": {},
     "output_type": "execute_result"
    }
   ],
   "source": [
    "bigrams_score(text)"
   ]
  },
  {
   "cell_type": "code",
   "execution_count": 116,
   "id": "e5b2c73f",
   "metadata": {
    "scrolled": false
   },
   "outputs": [
    {
     "data": {
      "text/plain": [
       "-2.983330240839408"
      ]
     },
     "execution_count": 116,
     "metadata": {},
     "output_type": "execute_result"
    }
   ],
   "source": [
    "otis = \"\"\"Mais, vous savez, moi je ne crois pas qu’il y ait de bonne ou de mauvaise situation. Moi, si je devais résumer ma vie aujourd’hui avec vous, je dirais que c’est d’abord des rencontres, des gens qui m’ont tendu la main, peut-être à un moment où je ne pouvais pas, où j’étais seul chez moi. Et c’est assez curieux de se dire que les hasards, les rencontres forgent une destinée... Parce que quand on a le goût de la chose, quand on a le goût de la chose bien faite, le beau geste, parfois on ne trouve pas l’interlocuteur en face, je dirais, le miroir qui vous aide à avancer\"\"\"\n",
    "bigrams_score(otis)"
   ]
  },
  {
   "cell_type": "code",
   "execution_count": 117,
   "id": "dd2366de",
   "metadata": {},
   "outputs": [
    {
     "name": "stdout",
     "output_type": "stream",
     "text": [
      " SD1815DWDPBVEQ RDGEVSPICRDFC SN SUDWJEC QD XVCXD N AU DK DKCYS DPD XVCXDUSDNC CQQVEKDKD SNCEISDRICLVSX DAUCSH DVSRDDCQDIPPUMVCXDQ DRC Y DK DKCYS DK MUCRD1806DAUICAU DP DK XVCQDS DXIUPB D SDVUPUS DWVSC E DVUDGISKDW W DK DP DAU DSIURDVNISRDVDEVPISX EDCQDSD RXDM UXD XE DMVRDCSUXCQ DS DGUXDP DAU DMIUED XE D LVPXD SDXIUXDKDCSKCAU EDCPCDQ RDFEUCXRD XDQ RDMEIMIRDAUCDVNVC SXDPIUEUDRUEDRISDPIWMX DVUDWIW SXDIUDCQD XVCXDVEECN DKVSRDQ DKCIP R DNEVCDIUDGVULDP DAUDISDKCXDK RDBIWW RDXC SXDRIUN SXDVUXVSXDK DMQVP DKVSRDQ UEDNC D XDRIUN SXDKVSRDQ UEDK RXCS  DAU DP DAUDCQRDGISXDWDWJEC QD XVCXDGCQRDKDUSDPISR CQQ EDVUDMVEQ W SXDKDVCLDDSIFQ RR DK DEIF DISDPISXVCXDAU DRISDM E DQ DE R ENVSXDMIUEDB ECX EDK DRVDPBVEY DQDVNVCXDWVEC DK DGIEXDFISS DB UE DVDKCLDBUCXDIUDNCSYXDVSRDRUCNVSXDUSDURVY DVRR HDE MVSKUDKVSRDQ RDGVWCQQ RDMVEQ W SXVCE RDPBVEQ RDWJEC QDSISIFRXVSXDP DWVECVY DVNVCXDKCRVCXDISDF VUPIUMDGVCXDMVEQ EDK DQUCDCQD XVCXDFC SDGVCXDK DRVDM ERISS DAUICAU DKDVRR HDM XCX DXVCQQ D Q YVSXDYEVPC ULDRMCECXU QDDXIUX DQVDME WC E DMVEXC DK DRVDNC DVNVCXD X DKISS  DVUDWISK D XDVULDYVQVSX EC RD\n"
     ]
    }
   ],
   "source": [
    "textc = cipher(text, code)\n",
    "print(textc.upper())"
   ]
  },
  {
   "cell_type": "code",
   "execution_count": 118,
   "id": "6cdf9f26",
   "metadata": {},
   "outputs": [
    {
     "name": "stdout",
     "output_type": "stream",
     "text": [
      "-10.09856450323746\n"
     ]
    }
   ],
   "source": [
    "print(bigrams_score(textc))"
   ]
  },
  {
   "cell_type": "code",
   "execution_count": 119,
   "id": "cd513c38",
   "metadata": {},
   "outputs": [
    {
     "name": "stdout",
     "output_type": "stream",
     "text": [
      "[0, 2, 18, 13, 11, 1, 17, 19, 20, 3, 21, 26, 9, 12, 6, 10, 14, 16, 8, 4, 5, 7, 15, 25, 22, 23, 24]\n"
     ]
    }
   ],
   "source": [
    "print(freq_fr)"
   ]
  },
  {
   "cell_type": "code",
   "execution_count": 120,
   "id": "867242f9",
   "metadata": {},
   "outputs": [],
   "source": [
    "## BREAKING A SUBSTITUTION CIPHER WITH A BIGRAM ATTACK"
   ]
  },
  {
   "cell_type": "code",
   "execution_count": 121,
   "id": "861ec747",
   "metadata": {},
   "outputs": [],
   "source": [
    "def decipher_deterministic(textc, N) :\n",
    "    \n",
    "    # TODO : renvoyer la clé de déchiffrement comme une permutation de NB_SYMB \n",
    "    \n",
    "    # uni-gram attack as an initialization point  \n",
    "    \n",
    "    n = len(textc)\n",
    "    t = normalise(textc)\n",
    "    freq_textc = freq_ordre(t)\n",
    "    decipher = \"\"\n",
    "    for c in t :\n",
    "        i = char_to_int(c)\n",
    "        if 0<=i<=26 :\n",
    "            freq_i = freq_textc[i]\n",
    "            decipher+=int_to_char(freq_fr.index(freq_i))\n",
    "        else : \n",
    "            decipher+=c\n",
    "            \n",
    "    decipher2=\"\"\n",
    "    \n",
    "    #sequence of bi-gram attacks\n",
    "    for k in range(N) :\n",
    "        i, j = np.random.choice(alphabet, size=2, replace=False) # Tirage de 2 lettres de l'alphabet sans remise\n",
    "        for c in decipher :\n",
    "            if c==i :              \n",
    "                decipher2+=j\n",
    "            elif c==j :\n",
    "                decipher2+=i\n",
    "            else : \n",
    "                decipher2+=c\n",
    "                \n",
    "        if bigrams_score(decipher) < bigrams_score(decipher2) :\n",
    "            decipher = decipher2\n",
    "            \n",
    "        decipher2 =\"\"\n",
    "        \n",
    "    return decipher"
   ]
  },
  {
   "cell_type": "code",
   "execution_count": 122,
   "id": "788def68",
   "metadata": {
    "scrolled": false
   },
   "outputs": [
    {
     "name": "stdout",
     "output_type": "stream",
     "text": [
      "EN 1815 C MBARLES JRANMOIS FIENVENU CHRIEL ETAIT EVEQUE DE DIGNE M ETAIT UN VIEILLARD D ENVIRON SOIXANTE QUINZE ANS  IL OMMUPAIT LE SIEGE DE DIGNE DEPUIS 1806 QUOIQUE ME DETAIL NE TOUMBE EN AUMUNE CANIERE AU JOND CECE DE ME QUE NOUS AVONS A RAMONTER IL N EST PEUT ETRE PAS INUTILE NE JUT ME QUE POUR ETRE EXAMT EN TOUT D INDIQUER IMI LES FRUITS ET LES PROPOS QUI AVAIENT MOURU SUR SON MOCPTE AU COCENT OU IL ETAIT ARRIVE DANS LE DIOMESE VRAI OU JAUX ME QU ON DIT DES BOCCES TIENT SOUVENT AUTANT DE PLAME DANS LEUR VIE ET SOUVENT DANS LEUR DESTINEE QUE ME QU ILS JONT C CHRIEL ETAIT JILS D UN MONSEILLER AU PARLECENT D AIX  NOFLESSE DE ROFE ON MONTAIT QUE SON PERE LE RESERVANT POUR BERITER DE SA MBARGE L AVAIT CARIE DE JORT FONNE BEURE A DIX BUIT OU VINGT ANS SUIVANT UN USAGE ASSEZ REPANDU DANS LES JACILLES PARLECENTAIRES MBARLES CHRIEL NONOFSTANT ME CARIAGE AVAIT DISAIT ON FEAUMOUP JAIT PARLER DE LUI IL ETAIT FIEN JAIT DE SA PERSONNE QUOIQUE D ASSEZ PETITE TAILLE ELEGANT GRAMIEUX SPIRITUEL  TOUTE LA PRECIERE PARTIE DE SA VIE AVAIT ETE DONNEE AU CONDE ET AUX GALANTERIES \n"
     ]
    }
   ],
   "source": [
    "t = decipher_deterministic(textc, 2500).upper()\n",
    "print(t)"
   ]
  },
  {
   "cell_type": "code",
   "execution_count": 123,
   "id": "5a755c30",
   "metadata": {},
   "outputs": [
    {
     "data": {
      "text/plain": [
       "-3.235974201546468"
      ]
     },
     "execution_count": 123,
     "metadata": {},
     "output_type": "execute_result"
    }
   ],
   "source": [
    "bigrams_score(t)"
   ]
  },
  {
   "cell_type": "code",
   "execution_count": 124,
   "id": "43637903",
   "metadata": {},
   "outputs": [],
   "source": [
    "def decipher_MCMC(textc) :\n",
    "    # uni-gram attack as an initialization point \n",
    "    n = len(textc)\n",
    "    t = normalise(textc)\n",
    "    freq_textc = freq_ordre(t)\n",
    "    decipher = \"\"\n",
    "    for c in t :\n",
    "        i = char_to_int(c)\n",
    "        if 0<=i<=26 :\n",
    "            freq_i = freq_textc[i]\n",
    "            decipher+=int_to_char(freq_fr.index(freq_i))\n",
    "        else : \n",
    "            decipher+=c\n",
    "    \n",
    "    best_decipher = decipher\n",
    "    best_score = bigrams_score(decipher)\n",
    "    decipher2=\"\"\n",
    "    count=0\n",
    "    \n",
    "    #sequence of bi-gram attacks\n",
    "    for k in range(MAX_ITER) :\n",
    "        count+=1\n",
    "        i, j = np.random.choice(alphabet, size=2, replace=False) # Tirage de 2 lettres de l'alphabet sans remise\n",
    "        for c in decipher :\n",
    "            if c==i :              \n",
    "                decipher2+=j\n",
    "            elif c==j :\n",
    "                decipher2+=i\n",
    "            else : \n",
    "                decipher2+=c\n",
    "                \n",
    "        p = 2**((bigrams_score(decipher2)-bigrams_score(decipher))*n)\n",
    "        \n",
    "        u = np.random.rand(1)\n",
    "        \n",
    "        if u < p : \n",
    "            #print(l(decipher),l(decipher2))\n",
    "            decipher=decipher2\n",
    "            \n",
    "            if bigrams_score(decipher)>best_score:\n",
    "                best_decipher=decipher\n",
    "                best_score=bigrams_score(decipher)\n",
    "\n",
    "        \n",
    "        decipher2 =\"\"\n",
    "        \n",
    "        if (k>MIN_ITER) and (best_score>IOC) :\n",
    "            print(\"count=\", count)\n",
    "            return best_decipher\n",
    "        \n",
    "    print(\"count=\", count)\n",
    "    return decipher"
   ]
  },
  {
   "cell_type": "code",
   "execution_count": 126,
   "id": "a9dc11a5",
   "metadata": {
    "scrolled": false
   },
   "outputs": [
    {
     "name": "stdout",
     "output_type": "stream",
     "text": [
      "count= 10000\n"
     ]
    },
    {
     "data": {
      "text/plain": [
       "'EN 1815 M CHARLES JRANCOIS FIENVENU MBRIEL ETAIT EVEQUE DE DIGNE C ETAIT UN VIEILLARD D ENVIRON SOIXANTE QUINZE ANS  IL OCCUPAIT LE SIEGE DE DIGNE DEPUIS 1806 QUOIQUE CE DETAIL NE TOUCHE EN AUCUNE MANIERE AU JOND MEME DE CE QUE NOUS AVONS A RACONTER IL N EST PEUT ETRE PAS INUTILE NE JUT CE QUE POUR ETRE EXACT EN TOUT D INDIQUER ICI LES FRUITS ET LES PROPOS QUI AVAIENT COURU SUR SON COMPTE AU MOMENT OU IL ETAIT ARRIVE DANS LE DIOCESE VRAI OU JAUX CE QU ON DIT DES HOMMES TIENT SOUVENT AUTANT DE PLACE DANS LEUR VIE ET SOUVENT DANS LEUR DESTINEE QUE CE QU ILS JONT M MBRIEL ETAIT JILS D UN CONSEILLER AU PARLEMENT D AIX  NOFLESSE DE ROFE ON CONTAIT QUE SON PERE LE RESERVANT POUR HERITER DE SA CHARGE L AVAIT MARIE DE JORT FONNE HEURE A DIX HUIT OU VINGT ANS SUIVANT UN USAGE ASSEZ REPANDU DANS LES JAMILLES PARLEMENTAIRES CHARLES MBRIEL NONOFSTANT CE MARIAGE AVAIT DISAIT ON FEAUCOUP JAIT PARLER DE LUI IL ETAIT FIEN JAIT DE SA PERSONNE QUOIQUE D ASSEZ PETITE TAILLE ELEGANT GRACIEUX SPIRITUEL  TOUTE LA PREMIERE PARTIE DE SA VIE AVAIT ETE DONNEE AU MONDE ET AUX GALANTERIES '"
      ]
     },
     "execution_count": 126,
     "metadata": {},
     "output_type": "execute_result"
    }
   ],
   "source": [
    "decipher_MCMC(cipher(text[:], code))"
   ]
  },
  {
   "cell_type": "code",
   "execution_count": 127,
   "id": "9f16c223",
   "metadata": {},
   "outputs": [
    {
     "name": "stdout",
     "output_type": "stream",
     "text": [
      "count= 10000\n"
     ]
    },
    {
     "data": {
      "text/plain": [
       "'EN 1815 M CHALSET PLANCOIT FIENVENU MBLIES ERAIR EVEQUE DE DIGNE C ERAIR UN VIEISSALD D ENVILON TOIXANRE QUINYE ANT  IS OCCUJAIR SE TIEGE DE DIGNE DEJUIT 1806 QUOIQUE CE DERAIS NE ROUCHE EN AUCUNE MANIELE AU POND MEME DE CE QUE NOUT AVONT A LACONREL IS N ETR JEUR ERLE JAT INURISE NE PUR CE QU'"
      ]
     },
     "execution_count": 127,
     "metadata": {},
     "output_type": "execute_result"
    }
   ],
   "source": [
    "decipher_MCMC(cipher(text[:300], code))"
   ]
  },
  {
   "cell_type": "code",
   "execution_count": 128,
   "id": "8a1efbdd",
   "metadata": {},
   "outputs": [
    {
     "name": "stdout",
     "output_type": "stream",
     "text": [
      "count= 10000\n"
     ]
    },
    {
     "data": {
      "text/plain": [
       "'EI 1815 C MPAYSET GYAIMOUT QUEINEIL CHYUES ERAUR ENEBLE DE DUVIE M ERAUR LI NUEUSSAYD D EINUYOI TOUJAIRE BLUIXE AIT  US OMMLFAUR SE TUEVE DE DUVIE DEFLUT 1806 BLOUBLE ME DERAUS IE ROLMPE EI ALMLIE CAIUEYE AL GOID CECE DE ME BLE IOLT ANOIT A YAMO'"
      ]
     },
     "execution_count": 128,
     "metadata": {},
     "output_type": "execute_result"
    }
   ],
   "source": [
    "decipher_MCMC(cipher(text[:250], code))"
   ]
  },
  {
   "cell_type": "code",
   "execution_count": 78,
   "id": "47f06e4d",
   "metadata": {},
   "outputs": [],
   "source": [
    "turing=\"\"\"L’article « Computing Machinery and Intelligence » qu’Alan Turing publie en 1950 est un incontournable pour tout chercheur en informatique ou toute personne intéressée par l’intelligence artificielle. Facilement accessible sur Internet (le site <scholar.google.fr> donne accès à 218 versions1) ou même en fac-similé sur le site TuringArchive.org 2 , cet article présente une discussion sur ce qui, selon l’auteur, dotera les machines de capa- cités intelligentes et de ce qui permettra d’en convaincre tout un chacun\"\"\""
   ]
  },
  {
   "cell_type": "code",
   "execution_count": 79,
   "id": "8706db1c",
   "metadata": {},
   "outputs": [
    {
     "data": {
      "text/plain": [
       "'L’ARTICLE « COMPUTING MACHINERY AND INTELLIGENCE » QU’ALAN TURING PUBLIE EN 1950 EST UN INCONTOURNABLE POUR TOUT CHERCHEUR EN INFORMATIQUE OU TOUTE PERSONNE INTÉRESSÉE PAR L’INTELLIGENCE ARTIFICIELLE. FACILEMENT ACCESSIBLE SUR INTERNET (LE SITE <SCHOLAR.GOOGLE.FR> DONNE ACCÈS À 218 VERSIONS1) OU MÊME EN FAC-SIMILÉ SUR LE SITE TURINGARCHIVE.ORG 2 , CET ARTICLE PRÉSENTE UNE DISCUSSION SUR CE QUI, SELON L’AUTEUR, DOTERA LES MACHINES DE CAPA- CITÉS INTELLIGENTES ET DE CE QUI PERMETTRA D’EN CONVAINCRE TOUT UN CHACUN'"
      ]
     },
     "execution_count": 79,
     "metadata": {},
     "output_type": "execute_result"
    }
   ],
   "source": [
    "turing.upper()"
   ]
  },
  {
   "cell_type": "code",
   "execution_count": 80,
   "id": "053c541d",
   "metadata": {
    "scrolled": true
   },
   "outputs": [
    {
     "data": {
      "text/plain": [
       "' LVIZKU NL<<LUYCOSZKHFLCVUGKHNITLVHPLKHZN  KFNHUNL>>LJSLV VHLZSIKHFLOSB KNLNHL1950LNAZLSHLKHUYHZYSIHVB NLOYSILZYSZLUGNIUGNSILNHLKHEYICVZKJSNLYSLZYSZNLONIAYHHNLKHZNINAANNLOVIL LKHZN  KFNHUNLVIZKEKUKN  NLEVUK NCNHZLVUUNAAKB NLASILKHZNIHNZL NLAKZNL<AUGY VIFYYF NEI>LPYHHNLVUUNALVL218LMNIAKYHA1LYSLCNCNLNHLEVULAKCK NLASIL NLAKZNLZSIKHFVIUGKMNYIFL2LLUNZLVIZKU NLOINANHZNLSHNLPKAUSAAKYHLASILUNLJSKLAN YHL LVSZNSILPYZNIVL NALCVUGKHNALPNLUVOVLLUKZNALKHZN  KFNHZNALNZLPNLUNLJSKLONICNZZIVLPLNHLUYHMVKHUINLZYSZLSHLUGVUSH'"
      ]
     },
     "execution_count": 80,
     "metadata": {},
     "output_type": "execute_result"
    }
   ],
   "source": [
    "cipher(turing, code)"
   ]
  },
  {
   "cell_type": "code",
   "execution_count": 81,
   "id": "90a156c2",
   "metadata": {},
   "outputs": [
    {
     "name": "stdout",
     "output_type": "stream",
     "text": [
      "count= 10000\n"
     ]
    },
    {
     "data": {
      "text/plain": [
       "'M ARTISME << SOVBUTIND VASPINERZ ANC INTEMMIDENSE >> QU AMAN TURIND BUGMIE EN 1950 ELT UN INSONTOURNAGME BOUR TOUT SPERSPEUR EN INFORVATIQUE OU TOUTE BERLONNE INTERELLEE BAR M INTEMMIDENSE ARTIFISIEMME FASIMEVENT ASSELLIGME LUR INTERNET ME LITE <LSPOMARDOODMEFR> CONNE ASSEL A 218 JERLIONL1 OU VEVE EN FAS LIVIME LUR ME LITE TURINDARSPIJEORD 2  SET ARTISME BRELENTE UNE CILSULLION LUR SE QUI LEMON M AUTEUR COTERA MEL VASPINEL CE SABA  SITEL INTEMMIDENTEL ET CE SE QUI BERVETTRA C EN SONJAINSRE TOUT UN SPASUN'"
      ]
     },
     "execution_count": 81,
     "metadata": {},
     "output_type": "execute_result"
    }
   ],
   "source": [
    "decipher_MCMC(cipher(turing, code))"
   ]
  },
  {
   "cell_type": "code",
   "execution_count": 82,
   "id": "7077b9bc",
   "metadata": {},
   "outputs": [],
   "source": [
    "otis = \"\"\"Mais, vous savez, moi je ne crois pas qu’il y ait de bonne ou de mauvaise situation. Moi, si je devais résumer ma vie aujourd’hui avec vous, je dirais que c’est d’abord des rencontres, des gens qui m’ont tendu la main\"\"\"#, peut-être à un moment où je ne pouvais pas, où j’étais seul chez moi. Et c’est assez curieux de se dire que les hasards, les rencontres forgent une destinée… Parce que quand on a le goût de la chose, quand on a le goût de la chose bien faite, le beau geste, parfois on ne trouve pas l’interlocuteur en face, je dirais, le miroir qui vous aide à avancer\"\"\""
   ]
  },
  {
   "cell_type": "code",
   "execution_count": 83,
   "id": "dfe034fb",
   "metadata": {},
   "outputs": [
    {
     "data": {
      "text/plain": [
       "'MAIS, VOUS SAVEZ, MOI JE NE CROIS PAS QU’IL Y AIT DE BONNE OU DE MAUVAISE SITUATION. MOI, SI JE DEVAIS RÉSUMER MA VIE AUJOURD’HUI AVEC VOUS, JE DIRAIS QUE C’EST D’ABORD DES RENCONTRES, DES GENS QUI M’ONT TENDU LA MAIN'"
      ]
     },
     "execution_count": 83,
     "metadata": {},
     "output_type": "execute_result"
    }
   ],
   "source": [
    "otis.upper()"
   ]
  },
  {
   "cell_type": "code",
   "execution_count": 84,
   "id": "bc1dbf58",
   "metadata": {
    "scrolled": true
   },
   "outputs": [
    {
     "data": {
      "text/plain": [
       "'CVKALMYSALAVMNWLCYKLDNLHNLUIYKALOVALJSLK LTLVKZLPNLBYHHNLYSLPNLCVSMVKANLAKZSVZKYHLCYKLAKLDNLPNMVKALINASCNILCVLMKNLVSDYSIPLGSKLVMNULMYSALDNLPKIVKALJSNLULNAZLPLVBYIPLPNALINHUYHZINALPNALFNHALJSKLCLYHZLZNHPSL VLCVKH'"
      ]
     },
     "execution_count": 84,
     "metadata": {},
     "output_type": "execute_result"
    }
   ],
   "source": [
    "cipher(otis, code)"
   ]
  },
  {
   "cell_type": "code",
   "execution_count": 85,
   "id": "69527254",
   "metadata": {},
   "outputs": [
    {
     "data": {
      "text/plain": [
       "217"
      ]
     },
     "execution_count": 85,
     "metadata": {},
     "output_type": "execute_result"
    }
   ],
   "source": [
    "len(otis)"
   ]
  },
  {
   "cell_type": "code",
   "execution_count": 87,
   "id": "54b02124",
   "metadata": {},
   "outputs": [],
   "source": [
    "hamlet = \"\"\"To be, or not to be: that is the question: Whether 'tis nobler in the mind to suffer The slings and arrows of outrageous fortune, Or to take arms against a sea of troubles, And by opposing end them\"\"\""
   ]
  },
  {
   "cell_type": "code",
   "execution_count": 88,
   "id": "bc8fb81e",
   "metadata": {},
   "outputs": [],
   "source": [
    "if LANGUAGE=='en' :\n",
    "    cipher(hamlet, code)\n",
    "    print(decipher_MCMC(cipher(hamlet, code)))    "
   ]
  },
  {
   "cell_type": "code",
   "execution_count": 89,
   "id": "58388186",
   "metadata": {},
   "outputs": [
    {
     "name": "stdout",
     "output_type": "stream",
     "text": [
      "[0, 6, 11, 24, 13, 3, 12, 14, 9, 8, 22, 19, 16, 15, 5, 2, 17, 21, 7, 4, 1, 10, 23, 18, 25, 20, 26]\n"
     ]
    }
   ],
   "source": [
    "print(freq_ordre(hamlet))"
   ]
  },
  {
   "cell_type": "code",
   "execution_count": 90,
   "id": "5c730f82",
   "metadata": {
    "scrolled": true
   },
   "outputs": [
    {
     "name": "stdout",
     "output_type": "stream",
     "text": [
      "[' ', 'T', 'O', 'E', 'S', 'N', 'A', 'R', 'I', 'H', 'U', 'B', 'F', 'D', 'G', 'M', 'L', 'P', 'W', 'K', 'Y', 'Q', 'J', 'V', 'C', 'X', 'Z']\n"
     ]
    }
   ],
   "source": [
    "print(list(map(int_to_char, invert(freq_ordre(hamlet)))))"
   ]
  },
  {
   "cell_type": "code",
   "execution_count": 94,
   "id": "0a4d4f83",
   "metadata": {},
   "outputs": [],
   "source": [
    "## TODO : BREAKING TRANSPOSITION CIPHER"
   ]
  }
 ],
 "metadata": {
  "kernelspec": {
   "display_name": "Python 3 (ipykernel)",
   "language": "python",
   "name": "python3"
  },
  "language_info": {
   "codemirror_mode": {
    "name": "ipython",
    "version": 3
   },
   "file_extension": ".py",
   "mimetype": "text/x-python",
   "name": "python",
   "nbconvert_exporter": "python",
   "pygments_lexer": "ipython3",
   "version": "3.10.6"
  }
 },
 "nbformat": 4,
 "nbformat_minor": 5
}
